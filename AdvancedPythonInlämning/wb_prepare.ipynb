{
 "cells": [
  {
   "cell_type": "code",
   "execution_count": 1,
   "metadata": {},
   "outputs": [],
   "source": [
    "from worldbank_api import observe_data\n",
    "from config import selected_indicators\n",
    "import wbgapi as wb\n",
    "import pandas as pd"
   ]
  },
  {
   "cell_type": "code",
   "execution_count": 20,
   "metadata": {},
   "outputs": [
    {
     "name": "stdout",
     "output_type": "stream",
     "text": [
      "id                    value\n",
      "--------------------  ----------------------------------------------------------------------------------------------\n",
      "SE.ADT.1524.LT.FE.ZS  Literacy rate, youth female (% of females ages 15-24)\n",
      "SE.ADT.1524.LT.FM.ZS  Literacy rate, youth (ages 15-24), gender parity index (GPI)\n",
      "SE.ADT.1524.LT.MA.ZS  Literacy rate, youth male (% of males ages 15-24)\n",
      "SE.ADT.1524.LT.ZS     Literacy rate, youth total (% of people ages 15-24)\n",
      "SH.DYN.2024           Probability of dying among youth ages 20-24 years (per 1,000)\n",
      "SL.UEM.1524.FE.NE.ZS  Unemployment, youth female (% of female labor force ages 15-24) (national estimate)\n",
      "SL.UEM.1524.FE.ZS     Unemployment, youth female (% of female labor force ages 15-24) (modeled ILO estimate)\n",
      "SL.UEM.1524.MA.NE.ZS  Unemployment, youth male (% of male labor force ages 15-24) (national estimate)\n",
      "SL.UEM.1524.MA.ZS     Unemployment, youth male (% of male labor force ages 15-24) (modeled ILO estimate)\n",
      "SL.UEM.1524.NE.ZS     Unemployment, youth total (% of total labor force ages 15-24) (national estimate)\n",
      "SL.UEM.1524.ZS        Unemployment, youth total (% of total labor force ages 15-24) (modeled ILO estimate)\n",
      "SL.UEM.NEET.FE.ZS     Share of youth not in education, employment or training, female (% of female youth population)\n",
      "SL.UEM.NEET.MA.ZS     Share of youth not in education, employment or training, male (% of male youth population)\n",
      "SL.UEM.NEET.ZS        Share of youth not in education, employment or training, total (% of youth population)\n",
      "                      14 elements\n"
     ]
    },
    {
     "data": {
      "text/html": [
       "<div class=\"wbgapi\"><table>\n",
       "<thead>\n",
       "<tr><th>id                  </th><th>value                                                                                         </th></tr>\n",
       "</thead>\n",
       "<tbody>\n",
       "<tr><td>SE.ADT.1524.LT.FE.ZS</td><td>Literacy rate, youth female (% of females ages 15-24)                                         </td></tr>\n",
       "<tr><td>SE.ADT.1524.LT.FM.ZS</td><td>Literacy rate, youth (ages 15-24), gender parity index (GPI)                                  </td></tr>\n",
       "<tr><td>SE.ADT.1524.LT.MA.ZS</td><td>Literacy rate, youth male (% of males ages 15-24)                                             </td></tr>\n",
       "<tr><td>SE.ADT.1524.LT.ZS   </td><td>Literacy rate, youth total (% of people ages 15-24)                                           </td></tr>\n",
       "<tr><td>SH.DYN.2024         </td><td>Probability of dying among youth ages 20-24 years (per 1,000)                                 </td></tr>\n",
       "<tr><td>SL.UEM.1524.FE.NE.ZS</td><td>Unemployment, youth female (% of female labor force ages 15-24) (national estimate)           </td></tr>\n",
       "<tr><td>SL.UEM.1524.FE.ZS   </td><td>Unemployment, youth female (% of female labor force ages 15-24) (modeled ILO estimate)        </td></tr>\n",
       "<tr><td>SL.UEM.1524.MA.NE.ZS</td><td>Unemployment, youth male (% of male labor force ages 15-24) (national estimate)               </td></tr>\n",
       "<tr><td>SL.UEM.1524.MA.ZS   </td><td>Unemployment, youth male (% of male labor force ages 15-24) (modeled ILO estimate)            </td></tr>\n",
       "<tr><td>SL.UEM.1524.NE.ZS   </td><td>Unemployment, youth total (% of total labor force ages 15-24) (national estimate)             </td></tr>\n",
       "<tr><td>SL.UEM.1524.ZS      </td><td>Unemployment, youth total (% of total labor force ages 15-24) (modeled ILO estimate)          </td></tr>\n",
       "<tr><td>SL.UEM.NEET.FE.ZS   </td><td>Share of youth not in education, employment or training, female (% of female youth population)</td></tr>\n",
       "<tr><td>SL.UEM.NEET.MA.ZS   </td><td>Share of youth not in education, employment or training, male (% of male youth population)    </td></tr>\n",
       "<tr><td>SL.UEM.NEET.ZS      </td><td>Share of youth not in education, employment or training, total (% of youth population)        </td></tr>\n",
       "<tr><td>                    </td><td>14 elements                                                                                   </td></tr>\n",
       "</tbody>\n",
       "</table></div>"
      ],
      "text/plain": [
       "id                    value\n",
       "--------------------  ----------------------------------------------------------------------------------------------\n",
       "SE.ADT.1524.LT.FE.ZS  Literacy rate, youth female (% of females ages 15-24)\n",
       "SE.ADT.1524.LT.FM.ZS  Literacy rate, youth (ages 15-24), gender parity index (GPI)\n",
       "SE.ADT.1524.LT.MA.ZS  Literacy rate, youth male (% of males ages 15-24)\n",
       "SE.ADT.1524.LT.ZS     Literacy rate, youth total (% of people ages 15-24)\n",
       "SH.DYN.2024           Probability of dying among youth ages 20-24 years (per 1,000)\n",
       "SL.UEM.1524.FE.NE.ZS  Unemployment, youth female (% of female labor force ages 15-24) (national estimate)\n",
       "SL.UEM.1524.FE.ZS     Unemployment, youth female (% of female labor force ages 15-24) (modeled ILO estimate)\n",
       "SL.UEM.1524.MA.NE.ZS  Unemployment, youth male (% of male labor force ages 15-24) (national estimate)\n",
       "SL.UEM.1524.MA.ZS     Unemployment, youth male (% of male labor force ages 15-24) (modeled ILO estimate)\n",
       "SL.UEM.1524.NE.ZS     Unemployment, youth total (% of total labor force ages 15-24) (national estimate)\n",
       "SL.UEM.1524.ZS        Unemployment, youth total (% of total labor force ages 15-24) (modeled ILO estimate)\n",
       "SL.UEM.NEET.FE.ZS     Share of youth not in education, employment or training, female (% of female youth population)\n",
       "SL.UEM.NEET.MA.ZS     Share of youth not in education, employment or training, male (% of male youth population)\n",
       "SL.UEM.NEET.ZS        Share of youth not in education, employment or training, total (% of youth population)\n",
       "                      14 elements"
      ]
     },
     "execution_count": 20,
     "metadata": {},
     "output_type": "execute_result"
    }
   ],
   "source": [
    "#observe_data()\n",
    "#observe_data(search_word=\"mortality\")\n",
    "#observe_data(search_word=\"child\")\n",
    "#observe_data(search_word=\"married\")\n",
    "observe_data(search_word=\"youth\")"
   ]
  },
  {
   "cell_type": "markdown",
   "metadata": {},
   "source": [
    "### update the indicators_dim table"
   ]
  },
  {
   "cell_type": "code",
   "execution_count": 4,
   "metadata": {},
   "outputs": [],
   "source": [
    "from config import selected_indicators\n",
    "from worldbank_api import update_indicator_list\n",
    "from database import save_to_sql"
   ]
  },
  {
   "cell_type": "code",
   "execution_count": 5,
   "metadata": {},
   "outputs": [],
   "source": [
    "#create dataframe from world bank api\n",
    "df = update_indicator_list(selected_indicators=selected_indicators)"
   ]
  },
  {
   "cell_type": "code",
   "execution_count": 6,
   "metadata": {},
   "outputs": [
    {
     "name": "stdout",
     "output_type": "stream",
     "text": [
      "        indicator_id                                     indicator_info\n",
      "0     SL.WAG.0714.ZS  Children in employment, wage workers (% of chi...\n",
      "1        SI.POV.MPUN  Multidimensional poverty headcount ratio (UNDP...\n",
      "2     SL.TLF.0714.ZS  Children in employment, total (% of children a...\n",
      "3        SE.PRM.UNER                    Children out of school, primary\n",
      "4        SH.DYN.MORT    Mortality rate, under-5 (per 1,000 live births)\n",
      "5  SP.M15.2024.FE.ZS  Women who were first married by age 15 (% of w...\n",
      "6        SP.ADO.TFRT  Adolescent fertility rate (births per 1,000 wo...\n",
      "7     SL.UEM.NEET.ZS  Share of youth not in education, employment or...\n"
     ]
    }
   ],
   "source": [
    "print(df)"
   ]
  },
  {
   "cell_type": "code",
   "execution_count": 7,
   "metadata": {},
   "outputs": [
    {
     "name": "stdout",
     "output_type": "stream",
     "text": [
      "Dataframe saved succesfully to sql server table: indicator_dim\n"
     ]
    }
   ],
   "source": [
    "#save the df to sql server\n",
    "save_to_sql(dataframe_name=df, table_name=\"indicator_dim\")"
   ]
  }
 ],
 "metadata": {
  "kernelspec": {
   "display_name": ".venv",
   "language": "python",
   "name": "python3"
  },
  "language_info": {
   "codemirror_mode": {
    "name": "ipython",
    "version": 3
   },
   "file_extension": ".py",
   "mimetype": "text/x-python",
   "name": "python",
   "nbconvert_exporter": "python",
   "pygments_lexer": "ipython3",
   "version": "3.12.6"
  }
 },
 "nbformat": 4,
 "nbformat_minor": 2
}
