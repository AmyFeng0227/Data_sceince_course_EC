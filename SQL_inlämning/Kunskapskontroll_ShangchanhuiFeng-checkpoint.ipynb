{
 "cells": [
  {
   "cell_type": "code",
   "execution_count": 130,
   "id": "c0cb54f0",
   "metadata": {},
   "outputs": [],
   "source": [
    "import pandas as pd\n",
    "import numpy as np\n",
    "import matplotlib.pyplot as plt\n",
    "import scipy.stats as stats\n",
    "from sqlalchemy import create_engine, MetaData, Table, inspect\n",
    "import matplotlib.ticker as mticker\n"
   ]
  },
  {
   "cell_type": "code",
   "execution_count": 96,
   "id": "1e44fc88",
   "metadata": {},
   "outputs": [],
   "source": [
    "engine = create_engine('mssql://SOS-5CG301585B/AdventureWorks2022?trusted_connection=yes&driver=ODBC+Driver+17+for+SQL+Server')\n",
    "connection = engine.connect()"
   ]
  },
  {
   "cell_type": "code",
   "execution_count": 4,
   "id": "71491080",
   "metadata": {},
   "outputs": [
    {
     "name": "stdout",
     "output_type": "stream",
     "text": [
      "<class 'sqlalchemy.engine.base.Engine'>\n"
     ]
    }
   ],
   "source": [
    "print(type(engine))"
   ]
  },
  {
   "cell_type": "markdown",
   "id": "e12bd71d",
   "metadata": {},
   "source": [
    "## inspections"
   ]
  },
  {
   "cell_type": "markdown",
   "id": "1ff3d561",
   "metadata": {},
   "source": [
    "### all schemas"
   ]
  },
  {
   "cell_type": "code",
   "execution_count": 5,
   "id": "41224264",
   "metadata": {},
   "outputs": [
    {
     "name": "stdout",
     "output_type": "stream",
     "text": [
      "['db_accessadmin', 'db_backupoperator', 'db_datareader', 'db_datawriter', 'db_ddladmin', 'db_denydatareader', 'db_denydatawriter', 'db_owner', 'db_securityadmin', 'dbo', 'guest', 'HumanResources', 'INFORMATION_SCHEMA', 'Person', 'Production', 'Purchasing', 'Sales', 'sys']\n"
     ]
    }
   ],
   "source": [
    "inspector = inspect(engine)\n",
    "schemas = inspector.get_schema_names()\n",
    "print(schemas)"
   ]
  },
  {
   "cell_type": "markdown",
   "id": "599ead82",
   "metadata": {},
   "source": [
    "### number of tables"
   ]
  },
  {
   "cell_type": "code",
   "execution_count": 209,
   "id": "3d79c3ad",
   "metadata": {},
   "outputs": [
    {
     "name": "stdout",
     "output_type": "stream",
     "text": [
      "         TABLE_CATALOG TABLE_SCHEMA               TABLE_NAME  TABLE_TYPE\n",
      "0   AdventureWorks2022        Sales             SalesTaxRate  BASE TABLE\n",
      "1   AdventureWorks2022        Sales         PersonCreditCard  BASE TABLE\n",
      "2   AdventureWorks2022       Person              PersonPhone  BASE TABLE\n",
      "3   AdventureWorks2022        Sales           SalesTerritory  BASE TABLE\n",
      "4   AdventureWorks2022       Person          PhoneNumberType  BASE TABLE\n",
      "..                 ...          ...                      ...         ...\n",
      "67  AdventureWorks2022   Production                 Location  BASE TABLE\n",
      "68  AdventureWorks2022       Person                 Password  BASE TABLE\n",
      "69  AdventureWorks2022        Sales  SalesPersonQuotaHistory  BASE TABLE\n",
      "70  AdventureWorks2022       Person                   Person  BASE TABLE\n",
      "71  AdventureWorks2022        Sales              SalesReason  BASE TABLE\n",
      "\n",
      "[72 rows x 4 columns]\n"
     ]
    }
   ],
   "source": [
    "df = pd.read_sql(sql = \"SELECT * FROM INFORMATION_SCHEMA.TABLES WHERE TABLE_TYPE = 'BASE TABLE'\", con = connection)\n",
    "print(df)"
   ]
  },
  {
   "cell_type": "markdown",
   "id": "ec30946f",
   "metadata": {},
   "source": [
    "### all tables under Sales schema"
   ]
  },
  {
   "cell_type": "code",
   "execution_count": 215,
   "id": "671c4b0e",
   "metadata": {},
   "outputs": [
    {
     "name": "stdout",
     "output_type": "stream",
     "text": [
      "['CountryRegionCurrency', 'CreditCard', 'Currency', 'CurrencyRate', 'Customer', 'PersonCreditCard', 'SalesOrderDetail', 'SalesOrderHeader', 'SalesOrderHeaderSalesReason', 'SalesPerson', 'SalesPersonQuotaHistory', 'SalesReason', 'SalesTaxRate', 'SalesTerritory', 'SalesTerritoryHistory', 'ShoppingCartItem', 'SpecialOffer', 'SpecialOfferProduct', 'Store']\n",
      "         TABLE_CATALOG TABLE_SCHEMA                   TABLE_NAME  TABLE_TYPE\n",
      "0   AdventureWorks2022        Sales                 SalesTaxRate  BASE TABLE\n",
      "1   AdventureWorks2022        Sales             PersonCreditCard  BASE TABLE\n",
      "2   AdventureWorks2022        Sales               SalesTerritory  BASE TABLE\n",
      "3   AdventureWorks2022        Sales        SalesTerritoryHistory  BASE TABLE\n",
      "4   AdventureWorks2022        Sales             ShoppingCartItem  BASE TABLE\n",
      "5   AdventureWorks2022        Sales                 SpecialOffer  BASE TABLE\n",
      "6   AdventureWorks2022        Sales          SpecialOfferProduct  BASE TABLE\n",
      "7   AdventureWorks2022        Sales                        Store  BASE TABLE\n",
      "8   AdventureWorks2022        Sales        CountryRegionCurrency  BASE TABLE\n",
      "9   AdventureWorks2022        Sales                   CreditCard  BASE TABLE\n",
      "10  AdventureWorks2022        Sales                     Currency  BASE TABLE\n",
      "11  AdventureWorks2022        Sales                 CurrencyRate  BASE TABLE\n",
      "12  AdventureWorks2022        Sales                     Customer  BASE TABLE\n",
      "13  AdventureWorks2022        Sales             SalesOrderDetail  BASE TABLE\n",
      "14  AdventureWorks2022        Sales             SalesOrderHeader  BASE TABLE\n",
      "15  AdventureWorks2022        Sales  SalesOrderHeaderSalesReason  BASE TABLE\n",
      "16  AdventureWorks2022        Sales                  SalesPerson  BASE TABLE\n",
      "17  AdventureWorks2022        Sales      SalesPersonQuotaHistory  BASE TABLE\n",
      "18  AdventureWorks2022        Sales                  SalesReason  BASE TABLE\n"
     ]
    }
   ],
   "source": [
    "print(inspector.get_table_names(schema = \"Sales\"))\n",
    "df2 = pd.read_sql(sql = \"SELECT * FROM INFORMATION_SCHEMA.TABLES WHERE TABLE_TYPE = 'BASE TABLE' AND TABLE_SCHEMA = 'Sales'\", con = connection)\n",
    "print(df2)"
   ]
  },
  {
   "cell_type": "markdown",
   "id": "5ee5d987",
   "metadata": {},
   "source": [
    "### review table Sales.SalesOrderDetail"
   ]
  },
  {
   "cell_type": "code",
   "execution_count": 97,
   "id": "9b218324",
   "metadata": {},
   "outputs": [
    {
     "data": {
      "text/html": [
       "<div>\n",
       "<style scoped>\n",
       "    .dataframe tbody tr th:only-of-type {\n",
       "        vertical-align: middle;\n",
       "    }\n",
       "\n",
       "    .dataframe tbody tr th {\n",
       "        vertical-align: top;\n",
       "    }\n",
       "\n",
       "    .dataframe thead th {\n",
       "        text-align: right;\n",
       "    }\n",
       "</style>\n",
       "<table border=\"1\" class=\"dataframe\">\n",
       "  <thead>\n",
       "    <tr style=\"text-align: right;\">\n",
       "      <th></th>\n",
       "      <th>SalesOrderID</th>\n",
       "      <th>SalesOrderDetailID</th>\n",
       "      <th>CarrierTrackingNumber</th>\n",
       "      <th>OrderQty</th>\n",
       "      <th>ProductID</th>\n",
       "      <th>SpecialOfferID</th>\n",
       "      <th>UnitPrice</th>\n",
       "      <th>UnitPriceDiscount</th>\n",
       "      <th>LineTotal</th>\n",
       "      <th>rowguid</th>\n",
       "      <th>ModifiedDate</th>\n",
       "    </tr>\n",
       "  </thead>\n",
       "  <tbody>\n",
       "    <tr>\n",
       "      <th>0</th>\n",
       "      <td>43659</td>\n",
       "      <td>1</td>\n",
       "      <td>4911-403C-98</td>\n",
       "      <td>1</td>\n",
       "      <td>776</td>\n",
       "      <td>1</td>\n",
       "      <td>2024.994</td>\n",
       "      <td>0.0</td>\n",
       "      <td>2024.994</td>\n",
       "      <td>B207C96D-D9E6-402B-8470-2CC176C42283</td>\n",
       "      <td>2011-05-31</td>\n",
       "    </tr>\n",
       "    <tr>\n",
       "      <th>1</th>\n",
       "      <td>43659</td>\n",
       "      <td>2</td>\n",
       "      <td>4911-403C-98</td>\n",
       "      <td>3</td>\n",
       "      <td>777</td>\n",
       "      <td>1</td>\n",
       "      <td>2024.994</td>\n",
       "      <td>0.0</td>\n",
       "      <td>6074.982</td>\n",
       "      <td>7ABB600D-1E77-41BE-9FE5-B9142CFC08FA</td>\n",
       "      <td>2011-05-31</td>\n",
       "    </tr>\n",
       "    <tr>\n",
       "      <th>2</th>\n",
       "      <td>43659</td>\n",
       "      <td>3</td>\n",
       "      <td>4911-403C-98</td>\n",
       "      <td>1</td>\n",
       "      <td>778</td>\n",
       "      <td>1</td>\n",
       "      <td>2024.994</td>\n",
       "      <td>0.0</td>\n",
       "      <td>2024.994</td>\n",
       "      <td>475CF8C6-49F6-486E-B0AD-AFC6A50CDD2F</td>\n",
       "      <td>2011-05-31</td>\n",
       "    </tr>\n",
       "    <tr>\n",
       "      <th>3</th>\n",
       "      <td>43659</td>\n",
       "      <td>4</td>\n",
       "      <td>4911-403C-98</td>\n",
       "      <td>1</td>\n",
       "      <td>771</td>\n",
       "      <td>1</td>\n",
       "      <td>2039.994</td>\n",
       "      <td>0.0</td>\n",
       "      <td>2039.994</td>\n",
       "      <td>04C4DE91-5815-45D6-8670-F462719FBCE3</td>\n",
       "      <td>2011-05-31</td>\n",
       "    </tr>\n",
       "    <tr>\n",
       "      <th>4</th>\n",
       "      <td>43659</td>\n",
       "      <td>5</td>\n",
       "      <td>4911-403C-98</td>\n",
       "      <td>1</td>\n",
       "      <td>772</td>\n",
       "      <td>1</td>\n",
       "      <td>2039.994</td>\n",
       "      <td>0.0</td>\n",
       "      <td>2039.994</td>\n",
       "      <td>5A74C7D2-E641-438E-A7AC-37BF23280301</td>\n",
       "      <td>2011-05-31</td>\n",
       "    </tr>\n",
       "  </tbody>\n",
       "</table>\n",
       "</div>"
      ],
      "text/plain": [
       "   SalesOrderID  SalesOrderDetailID CarrierTrackingNumber  OrderQty  \\\n",
       "0         43659                   1          4911-403C-98         1   \n",
       "1         43659                   2          4911-403C-98         3   \n",
       "2         43659                   3          4911-403C-98         1   \n",
       "3         43659                   4          4911-403C-98         1   \n",
       "4         43659                   5          4911-403C-98         1   \n",
       "\n",
       "   ProductID  SpecialOfferID  UnitPrice  UnitPriceDiscount  LineTotal  \\\n",
       "0        776               1   2024.994                0.0   2024.994   \n",
       "1        777               1   2024.994                0.0   6074.982   \n",
       "2        778               1   2024.994                0.0   2024.994   \n",
       "3        771               1   2039.994                0.0   2039.994   \n",
       "4        772               1   2039.994                0.0   2039.994   \n",
       "\n",
       "                                rowguid ModifiedDate  \n",
       "0  B207C96D-D9E6-402B-8470-2CC176C42283   2011-05-31  \n",
       "1  7ABB600D-1E77-41BE-9FE5-B9142CFC08FA   2011-05-31  \n",
       "2  475CF8C6-49F6-486E-B0AD-AFC6A50CDD2F   2011-05-31  \n",
       "3  04C4DE91-5815-45D6-8670-F462719FBCE3   2011-05-31  \n",
       "4  5A74C7D2-E641-438E-A7AC-37BF23280301   2011-05-31  "
      ]
     },
     "execution_count": 97,
     "metadata": {},
     "output_type": "execute_result"
    }
   ],
   "source": [
    "df = pd.read_sql(sql = \"SELECT * from Sales.SalesOrderDetail\", con = connection)\n",
    "df.head(5)"
   ]
  },
  {
   "cell_type": "markdown",
   "id": "1fe0523c",
   "metadata": {},
   "source": [
    "## Question 1. What are the top/bottom 5 products that made the most & least profit? Create a graph to show"
   ]
  },
  {
   "cell_type": "markdown",
   "id": "42bae6f3",
   "metadata": {},
   "source": [
    "step 1: create a view (sql_1) called \"Sales.vRevenueProfitByProduct\" in preparation for the analysis. It is done with the following code in MSSQL"
   ]
  },
  {
   "cell_type": "code",
   "execution_count": null,
   "id": "71332ac8",
   "metadata": {},
   "outputs": [],
   "source": [
    "CREATE VIEW Sales.vRevenueProfitByProduct AS\n",
    "SELECT \n",
    "\tA.ProductID,\n",
    "\tB.Name as ProductName,\n",
    "\tF.ProductSubcategoryID as ProductSubcategoryID,\n",
    "\tF.Name as ProductSubcategory,\n",
    "\tC.OrderDate, \n",
    "\tA.OrderQty,\n",
    "\tA.LineTotal,\n",
    "\tD.StandardCost,\n",
    "\tA.OrderQty * D.StandardCost as TotalOrderCost,\n",
    "\tG.CountryRegionCode\n",
    "FROM Sales.SalesOrderDetail as A\n",
    "LEFT JOIN Production.Product as B\n",
    "\tON A.ProductID = B.ProductID\n",
    "LEFT JOIN Sales.SalesOrderHeader as C\n",
    "\tON A.SalesOrderID = C.SalesOrderID\n",
    "LEFT JOIN Production.ProductCostHistory as D\n",
    "\tON A.ProductID = D.ProductID\n",
    "\tAND C.OrderDate >= D.StartDate \n",
    "\tAND (C.OrderDate <= D.EndDate OR D.EndDate IS NULL)\n",
    "LEFT JOIN Production.Product as E\n",
    "\tON A.ProductID = E.ProductID\n",
    "LEFT JOIN Production.ProductSubcategory as F\n",
    "\tON E.ProductSubcategoryID = F.ProductSubcategoryID\n",
    "LEFT JOIN Sales.SalesTerritory as G\n",
    "\tON C.TerritoryID = G.TerritoryID"
   ]
  },
  {
   "cell_type": "code",
   "execution_count": 99,
   "id": "cd99b2d6",
   "metadata": {},
   "outputs": [],
   "source": [
    "sql_1 = \"SELECT * FROM Sales.vRevenueProfitByProduct\"\n",
    "df1 = pd.read_sql(sql_1, con = connection)"
   ]
  },
  {
   "cell_type": "code",
   "execution_count": 100,
   "id": "7424a27f",
   "metadata": {},
   "outputs": [
    {
     "data": {
      "text/html": [
       "<div>\n",
       "<style scoped>\n",
       "    .dataframe tbody tr th:only-of-type {\n",
       "        vertical-align: middle;\n",
       "    }\n",
       "\n",
       "    .dataframe tbody tr th {\n",
       "        vertical-align: top;\n",
       "    }\n",
       "\n",
       "    .dataframe thead th {\n",
       "        text-align: right;\n",
       "    }\n",
       "</style>\n",
       "<table border=\"1\" class=\"dataframe\">\n",
       "  <thead>\n",
       "    <tr style=\"text-align: right;\">\n",
       "      <th></th>\n",
       "      <th>ProductID</th>\n",
       "      <th>ProductName</th>\n",
       "      <th>ProductSubcategory</th>\n",
       "      <th>OrderDate</th>\n",
       "      <th>OrderQty</th>\n",
       "      <th>LineTotal</th>\n",
       "      <th>StandardCost</th>\n",
       "      <th>TotalOrderCost</th>\n",
       "      <th>CountryRegionCode</th>\n",
       "    </tr>\n",
       "  </thead>\n",
       "  <tbody>\n",
       "    <tr>\n",
       "      <th>0</th>\n",
       "      <td>750</td>\n",
       "      <td>Road-150 Red, 44</td>\n",
       "      <td>Road Bikes</td>\n",
       "      <td>2011-06-05</td>\n",
       "      <td>1</td>\n",
       "      <td>3578.2700</td>\n",
       "      <td>2171.2942</td>\n",
       "      <td>2171.2942</td>\n",
       "      <td>US</td>\n",
       "    </tr>\n",
       "    <tr>\n",
       "      <th>1</th>\n",
       "      <td>750</td>\n",
       "      <td>Road-150 Red, 44</td>\n",
       "      <td>Road Bikes</td>\n",
       "      <td>2011-06-07</td>\n",
       "      <td>1</td>\n",
       "      <td>3578.2700</td>\n",
       "      <td>2171.2942</td>\n",
       "      <td>2171.2942</td>\n",
       "      <td>AU</td>\n",
       "    </tr>\n",
       "    <tr>\n",
       "      <th>2</th>\n",
       "      <td>743</td>\n",
       "      <td>HL Mountain Frame - Black, 42</td>\n",
       "      <td>Mountain Frames</td>\n",
       "      <td>2011-07-01</td>\n",
       "      <td>2</td>\n",
       "      <td>1429.4086</td>\n",
       "      <td>617.0281</td>\n",
       "      <td>1234.0562</td>\n",
       "      <td>US</td>\n",
       "    </tr>\n",
       "    <tr>\n",
       "      <th>3</th>\n",
       "      <td>742</td>\n",
       "      <td>HL Mountain Frame - Silver, 46</td>\n",
       "      <td>Mountain Frames</td>\n",
       "      <td>2011-07-01</td>\n",
       "      <td>3</td>\n",
       "      <td>2167.7847</td>\n",
       "      <td>623.8403</td>\n",
       "      <td>1871.5209</td>\n",
       "      <td>US</td>\n",
       "    </tr>\n",
       "    <tr>\n",
       "      <th>4</th>\n",
       "      <td>743</td>\n",
       "      <td>HL Mountain Frame - Black, 42</td>\n",
       "      <td>Mountain Frames</td>\n",
       "      <td>2011-07-01</td>\n",
       "      <td>1</td>\n",
       "      <td>714.7043</td>\n",
       "      <td>617.0281</td>\n",
       "      <td>617.0281</td>\n",
       "      <td>US</td>\n",
       "    </tr>\n",
       "  </tbody>\n",
       "</table>\n",
       "</div>"
      ],
      "text/plain": [
       "   ProductID                     ProductName ProductSubcategory  OrderDate  \\\n",
       "0        750                Road-150 Red, 44         Road Bikes 2011-06-05   \n",
       "1        750                Road-150 Red, 44         Road Bikes 2011-06-07   \n",
       "2        743   HL Mountain Frame - Black, 42    Mountain Frames 2011-07-01   \n",
       "3        742  HL Mountain Frame - Silver, 46    Mountain Frames 2011-07-01   \n",
       "4        743   HL Mountain Frame - Black, 42    Mountain Frames 2011-07-01   \n",
       "\n",
       "   OrderQty  LineTotal  StandardCost  TotalOrderCost CountryRegionCode  \n",
       "0         1  3578.2700     2171.2942       2171.2942                US  \n",
       "1         1  3578.2700     2171.2942       2171.2942                AU  \n",
       "2         2  1429.4086      617.0281       1234.0562                US  \n",
       "3         3  2167.7847      623.8403       1871.5209                US  \n",
       "4         1   714.7043      617.0281        617.0281                US  "
      ]
     },
     "execution_count": 100,
     "metadata": {},
     "output_type": "execute_result"
    }
   ],
   "source": [
    "df1.head()"
   ]
  },
  {
   "cell_type": "code",
   "execution_count": 101,
   "id": "f46d9924",
   "metadata": {},
   "outputs": [
    {
     "data": {
      "text/html": [
       "<div>\n",
       "<style scoped>\n",
       "    .dataframe tbody tr th:only-of-type {\n",
       "        vertical-align: middle;\n",
       "    }\n",
       "\n",
       "    .dataframe tbody tr th {\n",
       "        vertical-align: top;\n",
       "    }\n",
       "\n",
       "    .dataframe thead th {\n",
       "        text-align: right;\n",
       "    }\n",
       "</style>\n",
       "<table border=\"1\" class=\"dataframe\">\n",
       "  <thead>\n",
       "    <tr style=\"text-align: right;\">\n",
       "      <th></th>\n",
       "      <th>ProductID</th>\n",
       "      <th>ProductName</th>\n",
       "      <th>ProductSubCategory</th>\n",
       "      <th>TotalProductRevenue</th>\n",
       "      <th>TotalProductCost</th>\n",
       "      <th>TotalProductProfit</th>\n",
       "      <th>ProductMargin</th>\n",
       "    </tr>\n",
       "  </thead>\n",
       "  <tbody>\n",
       "    <tr>\n",
       "      <th>0</th>\n",
       "      <td>782</td>\n",
       "      <td>Mountain-200 Black, 38</td>\n",
       "      <td>Mountain Bikes</td>\n",
       "      <td>4.400593e+06</td>\n",
       "      <td>3.527771e+06</td>\n",
       "      <td>872822.123500</td>\n",
       "      <td>19.8341</td>\n",
       "    </tr>\n",
       "    <tr>\n",
       "      <th>1</th>\n",
       "      <td>783</td>\n",
       "      <td>Mountain-200 Black, 42</td>\n",
       "      <td>Mountain Bikes</td>\n",
       "      <td>4.009495e+06</td>\n",
       "      <td>3.145694e+06</td>\n",
       "      <td>863800.754741</td>\n",
       "      <td>21.5438</td>\n",
       "    </tr>\n",
       "    <tr>\n",
       "      <th>2</th>\n",
       "      <td>779</td>\n",
       "      <td>Mountain-200 Silver, 38</td>\n",
       "      <td>Mountain Bikes</td>\n",
       "      <td>3.693678e+06</td>\n",
       "      <td>2.864546e+06</td>\n",
       "      <td>829132.410672</td>\n",
       "      <td>22.4473</td>\n",
       "    </tr>\n",
       "    <tr>\n",
       "      <th>3</th>\n",
       "      <td>784</td>\n",
       "      <td>Mountain-200 Black, 46</td>\n",
       "      <td>Mountain Bikes</td>\n",
       "      <td>3.309673e+06</td>\n",
       "      <td>2.501585e+06</td>\n",
       "      <td>808088.339708</td>\n",
       "      <td>24.4159</td>\n",
       "    </tr>\n",
       "    <tr>\n",
       "      <th>4</th>\n",
       "      <td>781</td>\n",
       "      <td>Mountain-200 Silver, 46</td>\n",
       "      <td>Mountain Bikes</td>\n",
       "      <td>3.434257e+06</td>\n",
       "      <td>2.640300e+06</td>\n",
       "      <td>793957.253128</td>\n",
       "      <td>23.1187</td>\n",
       "    </tr>\n",
       "  </tbody>\n",
       "</table>\n",
       "</div>"
      ],
      "text/plain": [
       "   ProductID              ProductName ProductSubCategory  TotalProductRevenue  \\\n",
       "0        782   Mountain-200 Black, 38     Mountain Bikes         4.400593e+06   \n",
       "1        783   Mountain-200 Black, 42     Mountain Bikes         4.009495e+06   \n",
       "2        779  Mountain-200 Silver, 38     Mountain Bikes         3.693678e+06   \n",
       "3        784   Mountain-200 Black, 46     Mountain Bikes         3.309673e+06   \n",
       "4        781  Mountain-200 Silver, 46     Mountain Bikes         3.434257e+06   \n",
       "\n",
       "   TotalProductCost  TotalProductProfit  ProductMargin  \n",
       "0      3.527771e+06       872822.123500        19.8341  \n",
       "1      3.145694e+06       863800.754741        21.5438  \n",
       "2      2.864546e+06       829132.410672        22.4473  \n",
       "3      2.501585e+06       808088.339708        24.4159  \n",
       "4      2.640300e+06       793957.253128        23.1187  "
      ]
     },
     "execution_count": 101,
     "metadata": {},
     "output_type": "execute_result"
    }
   ],
   "source": [
    "#query(top_5_profit_df) for top 5 products with highest profit\n",
    "\n",
    "top_5_profit_df = \"\"\"\n",
    "SELECT TOP 5 \n",
    "\tProductID,\n",
    "\tProductName,\n",
    "\tProductSubCategory,\n",
    "\tSUM(LineTotal) as TotalProductRevenue,\n",
    "\tSUM(TotalOrderCost) as TotalProductCost,\n",
    "\tSUM(LineTotal) - SUM(TotalOrderCost) as TotalProductProfit,\n",
    "\t(SUM(LineTotal) - SUM(TotalOrderCost))/SUM(LineTotal) * 100 as ProductMargin\n",
    "FROM Sales.vRevenueProfitByProduct\n",
    "GROUP BY ProductID, ProductName, ProductSubcategory\n",
    "ORDER BY TotalProductProfit DESC\n",
    "\"\"\"\n",
    "top_5_profit_df = pd.read_sql(sql = top_5_profit_df, con = connection)\n",
    "top_5_profit_df.head()\n"
   ]
  },
  {
   "cell_type": "code",
   "execution_count": 218,
   "id": "a0f962d0",
   "metadata": {},
   "outputs": [
    {
     "data": {
      "text/html": [
       "<div>\n",
       "<style scoped>\n",
       "    .dataframe tbody tr th:only-of-type {\n",
       "        vertical-align: middle;\n",
       "    }\n",
       "\n",
       "    .dataframe tbody tr th {\n",
       "        vertical-align: top;\n",
       "    }\n",
       "\n",
       "    .dataframe thead th {\n",
       "        text-align: right;\n",
       "    }\n",
       "</style>\n",
       "<table border=\"1\" class=\"dataframe\">\n",
       "  <thead>\n",
       "    <tr style=\"text-align: right;\">\n",
       "      <th></th>\n",
       "      <th>ProductID</th>\n",
       "      <th>ProductName</th>\n",
       "      <th>ProductSubCategory</th>\n",
       "      <th>TotalProductRevenue</th>\n",
       "      <th>TotalProductCost</th>\n",
       "      <th>TotalProductProfit</th>\n",
       "      <th>ProductMargin</th>\n",
       "    </tr>\n",
       "  </thead>\n",
       "  <tbody>\n",
       "    <tr>\n",
       "      <th>0</th>\n",
       "      <td>957</td>\n",
       "      <td>Touring-1000 Yellow, 60</td>\n",
       "      <td>Touring Bikes</td>\n",
       "      <td>1.518133e+06</td>\n",
       "      <td>1.650879e+06</td>\n",
       "      <td>-132745.719453</td>\n",
       "      <td>-8.7440</td>\n",
       "    </tr>\n",
       "    <tr>\n",
       "      <th>1</th>\n",
       "      <td>762</td>\n",
       "      <td>Road-650 Red, 44</td>\n",
       "      <td>Road Bikes</td>\n",
       "      <td>9.433406e+05</td>\n",
       "      <td>1.038691e+06</td>\n",
       "      <td>-95350.712512</td>\n",
       "      <td>-10.1077</td>\n",
       "    </tr>\n",
       "    <tr>\n",
       "      <th>2</th>\n",
       "      <td>954</td>\n",
       "      <td>Touring-1000 Yellow, 46</td>\n",
       "      <td>Touring Bikes</td>\n",
       "      <td>1.426373e+06</td>\n",
       "      <td>1.489348e+06</td>\n",
       "      <td>-62974.720176</td>\n",
       "      <td>-4.4150</td>\n",
       "    </tr>\n",
       "    <tr>\n",
       "      <th>3</th>\n",
       "      <td>979</td>\n",
       "      <td>Touring-3000 Blue, 50</td>\n",
       "      <td>Touring Bikes</td>\n",
       "      <td>3.485815e+05</td>\n",
       "      <td>3.880751e+05</td>\n",
       "      <td>-39493.573285</td>\n",
       "      <td>-11.3297</td>\n",
       "    </tr>\n",
       "    <tr>\n",
       "      <th>4</th>\n",
       "      <td>965</td>\n",
       "      <td>Touring-3000 Yellow, 62</td>\n",
       "      <td>Touring Bikes</td>\n",
       "      <td>3.515477e+05</td>\n",
       "      <td>3.894594e+05</td>\n",
       "      <td>-37911.699790</td>\n",
       "      <td>-10.7842</td>\n",
       "    </tr>\n",
       "  </tbody>\n",
       "</table>\n",
       "</div>"
      ],
      "text/plain": [
       "   ProductID              ProductName ProductSubCategory  TotalProductRevenue  \\\n",
       "0        957  Touring-1000 Yellow, 60      Touring Bikes         1.518133e+06   \n",
       "1        762         Road-650 Red, 44         Road Bikes         9.433406e+05   \n",
       "2        954  Touring-1000 Yellow, 46      Touring Bikes         1.426373e+06   \n",
       "3        979    Touring-3000 Blue, 50      Touring Bikes         3.485815e+05   \n",
       "4        965  Touring-3000 Yellow, 62      Touring Bikes         3.515477e+05   \n",
       "\n",
       "   TotalProductCost  TotalProductProfit  ProductMargin  \n",
       "0      1.650879e+06      -132745.719453        -8.7440  \n",
       "1      1.038691e+06       -95350.712512       -10.1077  \n",
       "2      1.489348e+06       -62974.720176        -4.4150  \n",
       "3      3.880751e+05       -39493.573285       -11.3297  \n",
       "4      3.894594e+05       -37911.699790       -10.7842  "
      ]
     },
     "execution_count": 218,
     "metadata": {},
     "output_type": "execute_result"
    }
   ],
   "source": [
    "#query(bottom_5_profit_df) for bottom 5 products with lowest profit\n",
    "\n",
    "bottom_5_profit_df = \"\"\"\n",
    "SELECT TOP 5 \n",
    "\tProductID,\n",
    "\tProductName,\n",
    "\tProductSubCategory,\n",
    "\tSUM(LineTotal) as TotalProductRevenue,\n",
    "\tSUM(TotalOrderCost) as TotalProductCost,\n",
    "\tSUM(LineTotal) - SUM(TotalOrderCost) as TotalProductProfit,\n",
    "\t(SUM(LineTotal) - SUM(TotalOrderCost))/SUM(LineTotal) * 100 as ProductMargin\n",
    "    \n",
    "FROM Sales.vRevenueProfitByProduct\n",
    "GROUP BY ProductID, ProductName, ProductSubcategory\n",
    "ORDER BY TotalProductProfit \n",
    "\"\"\"\n",
    "bottom_5_profit_df = pd.read_sql(sql = bottom_5_profit_df, con = connection)\n",
    "bottom_5_profit_df.head()\n"
   ]
  },
  {
   "cell_type": "code",
   "execution_count": 221,
   "id": "59c733df",
   "metadata": {},
   "outputs": [
    {
     "data": {
      "image/png": "[encoded data removed]",
      "text/plain": [
       "<Figure size 800x550 with 1 Axes>"
      ]
     },
     "metadata": {},
     "output_type": "display_data"
    }
   ],
   "source": [
    "#Create a graph to show the top 5 profit & loss products\n",
    "combined_revenue_df = pd.concat([top_5_profit_df, bottom_5_profit_df])\n",
    "combined_revenue_df.sort_values(by = \"TotalProductProfit\", inplace = True)\n",
    "plt.style.use('seaborn-v0_8')\n",
    "plt.figure()\n",
    "plt.barh(combined_revenue_df[\"ProductName\"], combined_revenue_df[\"TotalProductProfit\"])\n",
    "plt.xlabel(\"Profit/loss\")\n",
    "plt.ylabel(\"Product Name\")\n",
    "plt.title(\"Top 5 profit & loss products\")\n",
    "\n",
    "\n",
    "\n",
    "plt.show()"
   ]
  },
  {
   "cell_type": "code",
   "execution_count": 224,
   "id": "3c6ecbed",
   "metadata": {},
   "outputs": [
    {
     "name": "stdout",
     "output_type": "stream",
     "text": [
      "    ProductID               Description  DiscountPct              Type\n",
      "0         762               No Discount         0.00       No Discount\n",
      "1         762  Volume Discount 11 to 14         0.02   Volume Discount\n",
      "2         762  Volume Discount 15 to 24         0.05   Volume Discount\n",
      "3         762        Road-650 Overstock         0.30  Excess Inventory\n",
      "4         954               No Discount         0.00       No Discount\n",
      "5         954  Volume Discount 11 to 14         0.02   Volume Discount\n",
      "6         954  Volume Discount 25 to 40         0.10   Volume Discount\n",
      "7         954    Touring-1000 Promotion         0.20       New Product\n",
      "8         957               No Discount         0.00       No Discount\n",
      "9         957  Volume Discount 11 to 14         0.02   Volume Discount\n",
      "10        957  Volume Discount 15 to 24         0.05   Volume Discount\n",
      "11        957    Touring-1000 Promotion         0.20       New Product\n",
      "12        965               No Discount         0.00       No Discount\n",
      "13        965  Volume Discount 11 to 14         0.02   Volume Discount\n",
      "14        965    Touring-3000 Promotion         0.15       New Product\n",
      "15        979               No Discount         0.00       No Discount\n",
      "16        979  Volume Discount 11 to 14         0.02   Volume Discount\n",
      "17        979  Volume Discount 15 to 24         0.05   Volume Discount\n",
      "18        979    Touring-3000 Promotion         0.15       New Product\n"
     ]
    }
   ],
   "source": [
    "# why are there negative profit products? \n",
    "reason_negative_profit_df = \"\"\"\n",
    "SELECT\n",
    "      A.ProductID\n",
    "\t  ,B.Description\n",
    "\t  ,B.DiscountPct\n",
    "\t  ,B.Type\n",
    "  FROM Sales.SpecialOfferProduct as A\n",
    "  LEFT JOIN Sales.SpecialOffer as B\n",
    "\tON A.SpecialOfferID = B.SpecialOfferID\n",
    "  WHERE ProductID = 957 OR ProductID = 762 OR ProductID = 954 OR ProductID = 979 OR ProductID = 965\n",
    "  ORDER BY ProductID\n",
    "\"\"\"\n",
    "\n",
    "reason_negative_profit_df = pd.read_sql(sql = reason_negative_profit_df, con = connection)\n",
    "print(reason_negative_profit_df)"
   ]
  },
  {
   "cell_type": "markdown",
   "id": "ac7e5a08",
   "metadata": {},
   "source": [
    "## Question 2: compare the margins and profit of different product categories. Create a graph to show"
   ]
  },
  {
   "cell_type": "code",
   "execution_count": 285,
   "id": "65998fe0",
   "metadata": {},
   "outputs": [
    {
     "name": "stdout",
     "output_type": "stream",
     "text": [
      "  ProductCategory  ProductCategoryMargin  ProductCategoryProfit\n",
      "0     Accessories                49.8778           6.344822e+05\n",
      "1        Clothing                17.5316           3.717651e+05\n",
      "2           Bikes                11.1416           1.054574e+07\n",
      "3      Components                 8.7818           1.036483e+06\n"
     ]
    }
   ],
   "source": [
    "#query margin comparison different product categories.\n",
    "margin_ProCat_df = \"\"\"\n",
    "\n",
    "SELECT\n",
    "\tC.Name as ProductCategory,\n",
    "\t(SUM(A.LineTotal)-SUM(A.TotalOrderCost))/SUM(A.LineTotal) * 100 as ProductCategoryMargin,\n",
    "    SUM(A.LineTotal)-SUM(A.TotalOrderCost) as ProductCategoryProfit\n",
    "FROM Sales.vRevenueProfitByProduct as A\n",
    "LEFT JOIN Production.ProductSubcategory as B\n",
    "    On A.ProductSubcategoryID = B.ProductSubcategoryID\n",
    "LEFT JOIN Production.ProductCategory as C\n",
    "    ON B.ProductCategoryID = C.ProductCategoryID\n",
    "GROUP BY C.Name\n",
    "ORDER BY ProductCategoryMargin DESC\n",
    "\n",
    "\"\"\"\n",
    "\n",
    "margin_ProCat_df = pd.read_sql(sql = margin_ProCat_df, con = connection)\n",
    "print(margin_ProCat_df)"
   ]
  },
  {
   "cell_type": "code",
   "execution_count": 291,
   "id": "692c6b50",
   "metadata": {},
   "outputs": [
    {
     "data": {
      "text/plain": [
       "Text(0.5, 1.0, 'Product categories profit')"
      ]
     },
     "execution_count": 291,
     "metadata": {},
     "output_type": "execute_result"
    },
    {
     "data": {
      "image/png": "[encoded data removed]",
      "text/plain": [
       "<Figure size 600x300 with 2 Axes>"
      ]
     },
     "metadata": {},
     "output_type": "display_data"
    }
   ],
   "source": [
    "#plot the df above in two graphs\n",
    "fig, ax = plt.subplots(1, 2, figsize = (6 ,3))\n",
    "plt.style.use('seaborn-v0_8')\n",
    "ax[0].bar(margin_ProCat_df.ProductCategory, margin_ProCat_df.ProductCategoryMargin, width = 0.5)\n",
    "ax[0].set_title('Product categories margin')\n",
    "ax[0].set_ylabel('Margin %')\n",
    "\n",
    "ax[1].pie(margin_ProCat_df['ProductCategoryProfit'], labels=margin_ProCat_df['ProductCategory'], autopct='%1.1f%%')\n",
    "ax[1].set_title('Product categories profit')\n",
    "\n"
   ]
  },
  {
   "cell_type": "markdown",
   "id": "9432f99a",
   "metadata": {},
   "source": [
    "## Question 3: compare the margins and profit of different bike subcategories. Create a graph to show"
   ]
  },
  {
   "cell_type": "code",
   "execution_count": 280,
   "id": "ce468521",
   "metadata": {},
   "outputs": [
    {
     "name": "stdout",
     "output_type": "stream",
     "text": [
      "  ProductSubcategory  ProductSubcategoryProfit  ProductSubcategoryMargin\n",
      "0     Mountain Bikes              5.932916e+06                   16.2788\n",
      "1         Road Bikes              4.395549e+06                   10.0104\n",
      "2      Touring Bikes              2.172777e+05                    1.5198\n"
     ]
    }
   ],
   "source": [
    "# query margin comparison different bike subcategory\n",
    "bike_SubCat_df = \"\"\"\n",
    "\n",
    "SELECT \n",
    "\tProductSubcategory,\n",
    "\tSUM(LineTotal)-SUM(TotalOrderCost) as ProductSubcategoryProfit,\n",
    "\t(SUM(LineTotal)-SUM(TotalOrderCost))/SUM(LineTotal) * 100 as ProductSubcategoryMargin\n",
    "FROM Sales.vRevenueProfitByProduct\n",
    "WHERE ProductSubcategory = 'Mountain Bikes' OR ProductSubcategory = 'Road Bikes' OR ProductSubcategory = 'Touring Bikes' \n",
    "GROUP BY ProductSubcategory\n",
    "ORDER BY ProductSubcategoryMargin DESC\n",
    "\n",
    "\"\"\"\n",
    "\n",
    "bike_SubCat_df = pd.read_sql(sql = bike_SubCat_df, con = connection)\n",
    "print(bike_SubCat_df)"
   ]
  },
  {
   "cell_type": "code",
   "execution_count": 292,
   "id": "a83e0923",
   "metadata": {},
   "outputs": [
    {
     "data": {
      "text/plain": [
       "Text(0.5, 1.0, 'Bike subcategories profit')"
      ]
     },
     "execution_count": 292,
     "metadata": {},
     "output_type": "execute_result"
    },
    {
     "data": {
      "image/png": "[encoded data removed]",
      "text/plain": [
       "<Figure size 600x300 with 2 Axes>"
      ]
     },
     "metadata": {},
     "output_type": "display_data"
    }
   ],
   "source": [
    "#plot the df above in two graphs\n",
    "fig, ax = plt.subplots(1, 2, figsize = (6 ,3))\n",
    "plt.style.use('seaborn-v0_8')\n",
    "\n",
    "ax[0].bar(bike_SubCat_df.ProductSubcategory, bike_SubCat_df.ProductSubcategoryMargin, width = 0.5)\n",
    "ax[0].set_title('Bike subcategories margin')\n",
    "ax[0].set_ylabel('Margin %')\n",
    "\n",
    "ax[1].pie(bike_SubCat_df['ProductSubcategoryProfit'], labels=bike_SubCat_df['ProductSubcategory'], autopct='%1.1f%%')\n",
    "ax[1].set_title('Bike subcategories profit')\n"
   ]
  },
  {
   "cell_type": "markdown",
   "id": "5919c858",
   "metadata": {},
   "source": [
    "## Question 4: How is the trend of revenue development in each region? create graphs to show"
   ]
  },
  {
   "cell_type": "code",
   "execution_count": null,
   "id": "a874ac4f",
   "metadata": {},
   "outputs": [],
   "source": [
    "#step 1: create a view \"Sales.vDailyRevenueProfitByCountry\" in SQL with the following code:\n",
    "CREATE VIEW Sales.vDailyRevenueProfitByCountry AS\n",
    "SELECT\n",
    "\tOrderDate,\n",
    "\tCountryRegionCode as Country,\n",
    "\tSUM(LineTotal) as TotalDailyRevenue,\n",
    "\tSUM(TotalOrderCost) as TotalDailyCost,\n",
    "\tSUM(LineTotal) - SUM(TotalOrderCost) as TotalDailyProfit\n",
    "\t\n",
    "FROM Sales.vRevenueProfitByProduct\n",
    "GROUP BY OrderDate, CountryRegionCode\n"
   ]
  },
  {
   "cell_type": "code",
   "execution_count": 114,
   "id": "9d22328b",
   "metadata": {},
   "outputs": [
    {
     "data": {
      "text/html": [
       "<div>\n",
       "<style scoped>\n",
       "    .dataframe tbody tr th:only-of-type {\n",
       "        vertical-align: middle;\n",
       "    }\n",
       "\n",
       "    .dataframe tbody tr th {\n",
       "        vertical-align: top;\n",
       "    }\n",
       "\n",
       "    .dataframe thead th {\n",
       "        text-align: right;\n",
       "    }\n",
       "</style>\n",
       "<table border=\"1\" class=\"dataframe\">\n",
       "  <thead>\n",
       "    <tr style=\"text-align: right;\">\n",
       "      <th></th>\n",
       "      <th>OrderDate</th>\n",
       "      <th>Country</th>\n",
       "      <th>TotalDailyRevenue</th>\n",
       "      <th>TotalDailyCost</th>\n",
       "      <th>TotalDailyProfit</th>\n",
       "    </tr>\n",
       "  </thead>\n",
       "  <tbody>\n",
       "    <tr>\n",
       "      <th>0</th>\n",
       "      <td>2011-07-28</td>\n",
       "      <td>AU</td>\n",
       "      <td>3.578270e+03</td>\n",
       "      <td>2.171294e+03</td>\n",
       "      <td>1406.975800</td>\n",
       "    </tr>\n",
       "    <tr>\n",
       "      <th>1</th>\n",
       "      <td>2013-04-30</td>\n",
       "      <td>US</td>\n",
       "      <td>1.332308e+06</td>\n",
       "      <td>1.267181e+06</td>\n",
       "      <td>65126.886861</td>\n",
       "    </tr>\n",
       "    <tr>\n",
       "      <th>2</th>\n",
       "      <td>2013-09-30</td>\n",
       "      <td>GB</td>\n",
       "      <td>1.997329e+05</td>\n",
       "      <td>1.994197e+05</td>\n",
       "      <td>313.175790</td>\n",
       "    </tr>\n",
       "    <tr>\n",
       "      <th>3</th>\n",
       "      <td>2013-11-14</td>\n",
       "      <td>DE</td>\n",
       "      <td>4.750440e+03</td>\n",
       "      <td>2.563975e+03</td>\n",
       "      <td>2186.465300</td>\n",
       "    </tr>\n",
       "    <tr>\n",
       "      <th>4</th>\n",
       "      <td>2014-04-04</td>\n",
       "      <td>FR</td>\n",
       "      <td>7.204230e+03</td>\n",
       "      <td>4.119686e+03</td>\n",
       "      <td>3084.543700</td>\n",
       "    </tr>\n",
       "  </tbody>\n",
       "</table>\n",
       "</div>"
      ],
      "text/plain": [
       "   OrderDate Country  TotalDailyRevenue  TotalDailyCost  TotalDailyProfit\n",
       "0 2011-07-28      AU       3.578270e+03    2.171294e+03       1406.975800\n",
       "1 2013-04-30      US       1.332308e+06    1.267181e+06      65126.886861\n",
       "2 2013-09-30      GB       1.997329e+05    1.994197e+05        313.175790\n",
       "3 2013-11-14      DE       4.750440e+03    2.563975e+03       2186.465300\n",
       "4 2014-04-04      FR       7.204230e+03    4.119686e+03       3084.543700"
      ]
     },
     "execution_count": 114,
     "metadata": {},
     "output_type": "execute_result"
    }
   ],
   "source": [
    "#the view \"Sales.vDailyRevenueProfitByCountry\" looks like below\n",
    "DailyRevenueProfitByCountry_df = pd.read_sql(\"SELECT * FROM Sales.vDailyRevenueProfitByCountry\", con = connection)\n",
    "DailyRevenueProfitByCountry_df.head()"
   ]
  },
  {
   "cell_type": "code",
   "execution_count": 154,
   "id": "972aacd2",
   "metadata": {},
   "outputs": [
    {
     "data": {
      "text/html": [
       "<div>\n",
       "<style scoped>\n",
       "    .dataframe tbody tr th:only-of-type {\n",
       "        vertical-align: middle;\n",
       "    }\n",
       "\n",
       "    .dataframe tbody tr th {\n",
       "        vertical-align: top;\n",
       "    }\n",
       "\n",
       "    .dataframe thead th {\n",
       "        text-align: right;\n",
       "    }\n",
       "</style>\n",
       "<table border=\"1\" class=\"dataframe\">\n",
       "  <thead>\n",
       "    <tr style=\"text-align: right;\">\n",
       "      <th></th>\n",
       "      <th>OrderDate</th>\n",
       "      <th>Country</th>\n",
       "      <th>CumulativeRevenueByOrderDate</th>\n",
       "      <th>CumulativeProfitByOrderDate</th>\n",
       "    </tr>\n",
       "  </thead>\n",
       "  <tbody>\n",
       "    <tr>\n",
       "      <th>0</th>\n",
       "      <td>2011-05-31</td>\n",
       "      <td>AU</td>\n",
       "      <td>3399.9900</td>\n",
       "      <td>1487.8356</td>\n",
       "    </tr>\n",
       "    <tr>\n",
       "      <th>1</th>\n",
       "      <td>2011-06-01</td>\n",
       "      <td>AU</td>\n",
       "      <td>13753.2400</td>\n",
       "      <td>5859.5426</td>\n",
       "    </tr>\n",
       "    <tr>\n",
       "      <th>2</th>\n",
       "      <td>2011-06-02</td>\n",
       "      <td>AU</td>\n",
       "      <td>20909.7800</td>\n",
       "      <td>8673.4942</td>\n",
       "    </tr>\n",
       "    <tr>\n",
       "      <th>3</th>\n",
       "      <td>2011-06-04</td>\n",
       "      <td>AU</td>\n",
       "      <td>28765.4182</td>\n",
       "      <td>11773.3977</td>\n",
       "    </tr>\n",
       "    <tr>\n",
       "      <th>4</th>\n",
       "      <td>2011-06-06</td>\n",
       "      <td>AU</td>\n",
       "      <td>32343.6882</td>\n",
       "      <td>13180.3735</td>\n",
       "    </tr>\n",
       "  </tbody>\n",
       "</table>\n",
       "</div>"
      ],
      "text/plain": [
       "   OrderDate Country  CumulativeRevenueByOrderDate  \\\n",
       "0 2011-05-31      AU                     3399.9900   \n",
       "1 2011-06-01      AU                    13753.2400   \n",
       "2 2011-06-02      AU                    20909.7800   \n",
       "3 2011-06-04      AU                    28765.4182   \n",
       "4 2011-06-06      AU                    32343.6882   \n",
       "\n",
       "   CumulativeProfitByOrderDate  \n",
       "0                    1487.8356  \n",
       "1                    5859.5426  \n",
       "2                    8673.4942  \n",
       "3                   11773.3977  \n",
       "4                   13180.3735  "
      ]
     },
     "execution_count": 154,
     "metadata": {},
     "output_type": "execute_result"
    }
   ],
   "source": [
    "#Creating the accumulated revenue by date, ordered by region\n",
    "CumulativeRevenueProfitByCountry_df = \"\"\"\n",
    "SELECT\n",
    "\tOrderDate,\n",
    "\tCountry,\n",
    "\tSUM(TotalDailyRevenue) OVER (PARTITION BY Country ORDER BY OrderDate) \n",
    "\t\tAS CumulativeRevenueByOrderDate,\n",
    "\tSUM(TotalDailyProfit) OVER (PARTITION BY Country ORDER BY OrderDate)\n",
    "\t\tAS CumulativeProfitByOrderDate\n",
    "FROM Sales.vDailyRevenueProfitByCountry\n",
    "ORDER BY Country, OrderDate\n",
    "\"\"\"\n",
    "\n",
    "CumulativeRevenueProfitByCountry_df = pd.read_sql(sql = CumulativeRevenueProfitByCountry_df, con = connection)\n",
    "CumulativeRevenueProfitByCountry_df.head()\n",
    "\n"
   ]
  },
  {
   "cell_type": "code",
   "execution_count": 155,
   "id": "4b0a2ee6",
   "metadata": {},
   "outputs": [
    {
     "data": {
      "text/html": [
       "<div>\n",
       "<style scoped>\n",
       "    .dataframe tbody tr th:only-of-type {\n",
       "        vertical-align: middle;\n",
       "    }\n",
       "\n",
       "    .dataframe tbody tr th {\n",
       "        vertical-align: top;\n",
       "    }\n",
       "\n",
       "    .dataframe thead th {\n",
       "        text-align: right;\n",
       "    }\n",
       "</style>\n",
       "<table border=\"1\" class=\"dataframe\">\n",
       "  <thead>\n",
       "    <tr style=\"text-align: right;\">\n",
       "      <th>Country</th>\n",
       "      <th>AU</th>\n",
       "      <th>CA</th>\n",
       "      <th>DE</th>\n",
       "      <th>FR</th>\n",
       "      <th>GB</th>\n",
       "      <th>US</th>\n",
       "    </tr>\n",
       "    <tr>\n",
       "      <th>OrderDate</th>\n",
       "      <th></th>\n",
       "      <th></th>\n",
       "      <th></th>\n",
       "      <th></th>\n",
       "      <th></th>\n",
       "      <th></th>\n",
       "    </tr>\n",
       "  </thead>\n",
       "  <tbody>\n",
       "    <tr>\n",
       "      <th>2014-06-26</th>\n",
       "      <td>1.065410e+07</td>\n",
       "      <td>1.635382e+07</td>\n",
       "      <td>4.914662e+06</td>\n",
       "      <td>7.251071e+06</td>\n",
       "      <td>7.670140e+06</td>\n",
       "      <td>6.299488e+07</td>\n",
       "    </tr>\n",
       "    <tr>\n",
       "      <th>2014-06-27</th>\n",
       "      <td>1.065437e+07</td>\n",
       "      <td>1.635416e+07</td>\n",
       "      <td>4.914741e+06</td>\n",
       "      <td>7.251502e+06</td>\n",
       "      <td>7.670320e+06</td>\n",
       "      <td>6.299532e+07</td>\n",
       "    </tr>\n",
       "    <tr>\n",
       "      <th>2014-06-28</th>\n",
       "      <td>1.065447e+07</td>\n",
       "      <td>1.635464e+07</td>\n",
       "      <td>4.915131e+06</td>\n",
       "      <td>7.251556e+06</td>\n",
       "      <td>7.670469e+06</td>\n",
       "      <td>6.299600e+07</td>\n",
       "    </tr>\n",
       "    <tr>\n",
       "      <th>2014-06-29</th>\n",
       "      <td>1.065479e+07</td>\n",
       "      <td>1.635510e+07</td>\n",
       "      <td>4.915131e+06</td>\n",
       "      <td>7.251556e+06</td>\n",
       "      <td>7.670523e+06</td>\n",
       "      <td>6.299664e+07</td>\n",
       "    </tr>\n",
       "    <tr>\n",
       "      <th>2014-06-30</th>\n",
       "      <td>1.065534e+07</td>\n",
       "      <td>1.635577e+07</td>\n",
       "      <td>4.915408e+06</td>\n",
       "      <td>7.251556e+06</td>\n",
       "      <td>7.670721e+06</td>\n",
       "      <td>6.299759e+07</td>\n",
       "    </tr>\n",
       "  </tbody>\n",
       "</table>\n",
       "</div>"
      ],
      "text/plain": [
       "Country               AU            CA            DE            FR  \\\n",
       "OrderDate                                                            \n",
       "2014-06-26  1.065410e+07  1.635382e+07  4.914662e+06  7.251071e+06   \n",
       "2014-06-27  1.065437e+07  1.635416e+07  4.914741e+06  7.251502e+06   \n",
       "2014-06-28  1.065447e+07  1.635464e+07  4.915131e+06  7.251556e+06   \n",
       "2014-06-29  1.065479e+07  1.635510e+07  4.915131e+06  7.251556e+06   \n",
       "2014-06-30  1.065534e+07  1.635577e+07  4.915408e+06  7.251556e+06   \n",
       "\n",
       "Country               GB            US  \n",
       "OrderDate                               \n",
       "2014-06-26  7.670140e+06  6.299488e+07  \n",
       "2014-06-27  7.670320e+06  6.299532e+07  \n",
       "2014-06-28  7.670469e+06  6.299600e+07  \n",
       "2014-06-29  7.670523e+06  6.299664e+07  \n",
       "2014-06-30  7.670721e+06  6.299759e+07  "
      ]
     },
     "execution_count": 155,
     "metadata": {},
     "output_type": "execute_result"
    }
   ],
   "source": [
    "# Pivot the df to get countries as columns and dates as rows\n",
    "pivot_Cumulative_df = CumulativeRevenueProfitByCountry_df.pivot(index='OrderDate', columns='Country', values='CumulativeRevenueByOrderDate')\n",
    "\n",
    "# Filling up the NaN\n",
    "pivot_Cumulative_df_filled = pivot_Cumulative_df.fillna(method='ffill')\n",
    "\n",
    "\n",
    "pivot_Cumulative_df_filled.tail()\n"
   ]
  },
  {
   "cell_type": "code",
   "execution_count": 156,
   "id": "f5944bd9",
   "metadata": {},
   "outputs": [
    {
     "data": {
      "text/html": [
       "<div>\n",
       "<style scoped>\n",
       "    .dataframe tbody tr th:only-of-type {\n",
       "        vertical-align: middle;\n",
       "    }\n",
       "\n",
       "    .dataframe tbody tr th {\n",
       "        vertical-align: top;\n",
       "    }\n",
       "\n",
       "    .dataframe thead th {\n",
       "        text-align: right;\n",
       "    }\n",
       "</style>\n",
       "<table border=\"1\" class=\"dataframe\">\n",
       "  <thead>\n",
       "    <tr style=\"text-align: right;\">\n",
       "      <th>Country</th>\n",
       "      <th>AU</th>\n",
       "      <th>CA</th>\n",
       "      <th>DE</th>\n",
       "      <th>FR</th>\n",
       "      <th>GB</th>\n",
       "      <th>US</th>\n",
       "    </tr>\n",
       "    <tr>\n",
       "      <th>OrderDate</th>\n",
       "      <th></th>\n",
       "      <th></th>\n",
       "      <th></th>\n",
       "      <th></th>\n",
       "      <th></th>\n",
       "      <th></th>\n",
       "    </tr>\n",
       "  </thead>\n",
       "  <tbody>\n",
       "    <tr>\n",
       "      <th>2011-05-31</th>\n",
       "      <td>3399.9900</td>\n",
       "      <td>118939.166</td>\n",
       "      <td>NaN</td>\n",
       "      <td>3399.99</td>\n",
       "      <td>NaN</td>\n",
       "      <td>378066.7709</td>\n",
       "    </tr>\n",
       "    <tr>\n",
       "      <th>2011-06-01</th>\n",
       "      <td>13753.2400</td>\n",
       "      <td>118939.166</td>\n",
       "      <td>NaN</td>\n",
       "      <td>3399.99</td>\n",
       "      <td>NaN</td>\n",
       "      <td>381645.0409</td>\n",
       "    </tr>\n",
       "    <tr>\n",
       "      <th>2011-06-02</th>\n",
       "      <td>20909.7800</td>\n",
       "      <td>118939.166</td>\n",
       "      <td>NaN</td>\n",
       "      <td>3399.99</td>\n",
       "      <td>699.0982</td>\n",
       "      <td>388801.5809</td>\n",
       "    </tr>\n",
       "    <tr>\n",
       "      <th>2011-06-03</th>\n",
       "      <td>20909.7800</td>\n",
       "      <td>118939.166</td>\n",
       "      <td>3578.27</td>\n",
       "      <td>3399.99</td>\n",
       "      <td>699.0982</td>\n",
       "      <td>392379.8509</td>\n",
       "    </tr>\n",
       "    <tr>\n",
       "      <th>2011-06-04</th>\n",
       "      <td>28765.4182</td>\n",
       "      <td>118939.166</td>\n",
       "      <td>3578.27</td>\n",
       "      <td>3399.99</td>\n",
       "      <td>4277.3682</td>\n",
       "      <td>395958.1209</td>\n",
       "    </tr>\n",
       "  </tbody>\n",
       "</table>\n",
       "</div>"
      ],
      "text/plain": [
       "Country             AU          CA       DE       FR         GB           US\n",
       "OrderDate                                                                   \n",
       "2011-05-31   3399.9900  118939.166      NaN  3399.99        NaN  378066.7709\n",
       "2011-06-01  13753.2400  118939.166      NaN  3399.99        NaN  381645.0409\n",
       "2011-06-02  20909.7800  118939.166      NaN  3399.99   699.0982  388801.5809\n",
       "2011-06-03  20909.7800  118939.166  3578.27  3399.99   699.0982  392379.8509\n",
       "2011-06-04  28765.4182  118939.166  3578.27  3399.99  4277.3682  395958.1209"
      ]
     },
     "execution_count": 156,
     "metadata": {},
     "output_type": "execute_result"
    }
   ],
   "source": [
    "pivot_Cumulative_df_filled.head()"
   ]
  },
  {
   "cell_type": "code",
   "execution_count": 157,
   "id": "e0d6e10a",
   "metadata": {},
   "outputs": [
    {
     "data": {
      "image/png": "[encoded data removed]",
      "text/plain": [
       "<Figure size 800x550 with 1 Axes>"
      ]
     },
     "metadata": {},
     "output_type": "display_data"
    }
   ],
   "source": [
    "#plot the graph\n",
    "plt.figure()\n",
    "for country in pivot_Cumulative_df_filled.columns:\n",
    "    plt.plot(pivot_Cumulative_df_filled.index, pivot_Cumulative_df_filled[country], marker='', label=country)\n",
    "\n",
    "plt.title('Revenue by Country')\n",
    "plt.xlabel('Time')\n",
    "plt.ylabel('Cumulative Revenue')\n",
    "plt.legend(title='Country')\n",
    "plt.grid(True)\n",
    "\n",
    "plt.draw()\n",
    "plt.show()\n",
    "\n",
    "\n"
   ]
  },
  {
   "cell_type": "markdown",
   "id": "4bec18c4",
   "metadata": {},
   "source": [
    "While the North American market is obviously leading the revenue performance, I would like to further study the revenues of three European countires, who seem to have the lowest revenues. Here are my hypothesis from observing the graph above:\n",
    "a. GB and FR have similar revenues\n",
    "b. DE have lower revenue than GB and FR\n",
    "\n"
   ]
  },
  {
   "cell_type": "markdown",
   "id": "923e2c55",
   "metadata": {},
   "source": [
    "In order to do a hypothesis testing, I need to create a table of daily revenues of these countries."
   ]
  },
  {
   "cell_type": "code",
   "execution_count": 159,
   "id": "392bdaaf",
   "metadata": {},
   "outputs": [
    {
     "name": "stdout",
     "output_type": "stream",
     "text": [
      "Country             AU          CA       DE       FR         GB           US\n",
      "OrderDate                                                                   \n",
      "2011-05-31   3399.9900  118939.166     0.00  3399.99     0.0000  378066.7709\n",
      "2011-06-01  10353.2500       0.000     0.00     0.00     0.0000    3578.2700\n",
      "2011-06-02   7156.5400       0.000     0.00     0.00   699.0982    7156.5400\n",
      "2011-06-03      0.0000       0.000  3578.27     0.00     0.0000    3578.2700\n",
      "2011-06-04   7855.6382       0.000     0.00     0.00  3578.2700    3578.2700\n",
      "...                ...         ...      ...      ...        ...          ...\n",
      "2014-06-26    300.9000     434.840   156.91   155.56    46.4700     408.1700\n",
      "2014-06-27    274.9800     334.590    78.96   430.89   179.5100     448.7400\n",
      "2014-06-28     95.4700     484.090   390.86    53.99   148.9800     674.0700\n",
      "2014-06-29    324.9800     457.590     0.00     0.00    53.9800     641.0600\n",
      "2014-06-30    544.3900     673.320   276.17     0.00   198.4000     951.3300\n",
      "\n",
      "[1124 rows x 6 columns]\n"
     ]
    }
   ],
   "source": [
    "pivot_daily_df = DailyRevenueProfitByCountry_df.pivot(index='OrderDate', columns='Country', values='TotalDailyRevenue')\n",
    "pivot_daily_df_filled = pivot_daily_df.fillna(0)\n",
    "print(pivot_daily_df_filled)"
   ]
  },
  {
   "cell_type": "code",
   "execution_count": 303,
   "id": "6794642d",
   "metadata": {},
   "outputs": [],
   "source": [
    "Revenue_FR = pivot_daily_df_filled[\"FR\"]\n",
    "Revenue_GB = pivot_daily_df_filled[\"GB\"]\n",
    "Revenue_DE = pivot_daily_df_filled[\"DE\"]\n",
    "Revenue_US = pivot_daily_df_filled[\"US\"]\n",
    "Revenue_CA = pivot_daily_df_filled[\"CA\"]\n",
    "Revenue_AU = pivot_daily_df_filled[\"AU\"]"
   ]
  },
  {
   "cell_type": "code",
   "execution_count": 304,
   "id": "f492d43c",
   "metadata": {},
   "outputs": [
    {
     "name": "stdout",
     "output_type": "stream",
     "text": [
      "The p_value is 0.027660733003670057, there is a significant difference between CA and AU revenues\n"
     ]
    }
   ],
   "source": [
    "#Compare if there is a significant difference between CA and AU revenues.\n",
    "#Using T-test for means of two independent samples.\n",
    "t_value, p_value = stats.ttest_ind(Revenue_CA, Revenue_AU)\n",
    "if p_value < 0.05:\n",
    "    print(f\"The p_value is {p_value}, there is a significant difference between CA and AU revenues\")\n",
    "else:\n",
    "    print(f\"The p_value is {p_value}, there is no significant difference between CA and AU revenues\")"
   ]
  },
  {
   "cell_type": "code",
   "execution_count": null,
   "id": "5f4300cb",
   "metadata": {},
   "outputs": [],
   "source": []
  },
  {
   "cell_type": "code",
   "execution_count": 187,
   "id": "cf98a2a7",
   "metadata": {},
   "outputs": [
    {
     "name": "stdout",
     "output_type": "stream",
     "text": [
      "Country               AU            CA            DE            FR  \\\n",
      "OrderDate                                                            \n",
      "2011-05-31  1.487836e+03  4.458342e+03  0.000000e+00  1.487836e+03   \n",
      "2011-06-01  5.859543e+03  0.000000e+00  0.000000e+00  0.000000e+00   \n",
      "2011-06-02  8.673494e+03  0.000000e+00  0.000000e+00  0.000000e+00   \n",
      "2011-06-03  0.000000e+00  0.000000e+00  1.406976e+03  0.000000e+00   \n",
      "2011-06-04  1.177340e+04  0.000000e+00  0.000000e+00  0.000000e+00   \n",
      "...                  ...           ...           ...           ...   \n",
      "2014-06-26  3.576464e+06  1.007091e+06  1.112782e+06  1.048696e+06   \n",
      "2014-06-27  3.576575e+06  1.007300e+06  1.112828e+06  1.048943e+06   \n",
      "2014-06-28  3.576631e+06  1.007536e+06  1.113051e+06  1.048955e+06   \n",
      "2014-06-29  3.576813e+06  1.007779e+06  0.000000e+00  0.000000e+00   \n",
      "2014-06-30  3.577134e+06  1.008149e+06  1.113224e+06  0.000000e+00   \n",
      "\n",
      "Country               GB            US  \n",
      "OrderDate                               \n",
      "2011-05-31  0.000000e+00  1.575586e+04  \n",
      "2011-06-01  0.000000e+00  1.716283e+04  \n",
      "2011-06-02  2.859519e+02  1.997678e+04  \n",
      "2011-06-03  0.000000e+00  2.138376e+04  \n",
      "2011-06-04  1.692928e+03  2.279074e+04  \n",
      "...                  ...           ...  \n",
      "2014-06-26  1.396552e+06  4.442616e+06  \n",
      "2014-06-27  1.396665e+06  4.442856e+06  \n",
      "2014-06-28  1.396758e+06  4.443233e+06  \n",
      "2014-06-29  1.396772e+06  4.443611e+06  \n",
      "2014-06-30  1.396873e+06  4.444139e+06  \n",
      "\n",
      "[1124 rows x 6 columns]\n"
     ]
    }
   ],
   "source": [
    "pivot_daily_profit_df = CumulativeRevenueProfitByCountry_df.pivot(index='OrderDate', columns='Country', values='CumulativeProfitByOrderDate')\n",
    "pivot_daily_profit_df_filled = pivot_daily_profit_df.fillna(0)\n",
    "print(pivot_daily_profit_df_filled)"
   ]
  },
  {
   "cell_type": "code",
   "execution_count": 192,
   "id": "b17304aa",
   "metadata": {},
   "outputs": [
    {
     "name": "stdout",
     "output_type": "stream",
     "text": [
      "Country               AU            CA            DE            FR  \\\n",
      "OrderDate                                                            \n",
      "2011-05-31  1.487836e+03  4.458342e+03           NaN  1.487836e+03   \n",
      "2011-06-01  5.859543e+03  4.458342e+03           NaN  1.487836e+03   \n",
      "2011-06-02  8.673494e+03  4.458342e+03           NaN  1.487836e+03   \n",
      "2011-06-03  8.673494e+03  4.458342e+03  1.406976e+03  1.487836e+03   \n",
      "2011-06-04  1.177340e+04  4.458342e+03  1.406976e+03  1.487836e+03   \n",
      "...                  ...           ...           ...           ...   \n",
      "2014-06-26  3.576464e+06  1.007091e+06  1.112782e+06  1.048696e+06   \n",
      "2014-06-27  3.576575e+06  1.007300e+06  1.112828e+06  1.048943e+06   \n",
      "2014-06-28  3.576631e+06  1.007536e+06  1.113051e+06  1.048955e+06   \n",
      "2014-06-29  3.576813e+06  1.007779e+06  1.113051e+06  1.048955e+06   \n",
      "2014-06-30  3.577134e+06  1.008149e+06  1.113224e+06  1.048955e+06   \n",
      "\n",
      "Country               GB            US  \n",
      "OrderDate                               \n",
      "2011-05-31           NaN  1.575586e+04  \n",
      "2011-06-01           NaN  1.716283e+04  \n",
      "2011-06-02  2.859519e+02  1.997678e+04  \n",
      "2011-06-03  2.859519e+02  2.138376e+04  \n",
      "2011-06-04  1.692928e+03  2.279074e+04  \n",
      "...                  ...           ...  \n",
      "2014-06-26  1.396552e+06  4.442616e+06  \n",
      "2014-06-27  1.396665e+06  4.442856e+06  \n",
      "2014-06-28  1.396758e+06  4.443233e+06  \n",
      "2014-06-29  1.396772e+06  4.443611e+06  \n",
      "2014-06-30  1.396873e+06  4.444139e+06  \n",
      "\n",
      "[1124 rows x 6 columns]\n"
     ]
    }
   ],
   "source": [
    "pivot_cumulative_profit_df = CumulativeRevenueProfitByCountry_df.pivot(index='OrderDate', columns='Country', values='CumulativeProfitByOrderDate')\n",
    "pivot_cumulative_profit_df_filled = pivot_cumulative_profit_df.fillna(method='ffill')\n",
    "print(pivot_cumulative_profit_df_filled)"
   ]
  },
  {
   "cell_type": "code",
   "execution_count": 193,
   "id": "487ed17a",
   "metadata": {},
   "outputs": [
    {
     "data": {
      "image/png": "[encoded data removed]",
      "text/plain": [
       "<Figure size 800x550 with 1 Axes>"
      ]
     },
     "metadata": {},
     "output_type": "display_data"
    }
   ],
   "source": [
    "plt.figure()\n",
    "for country in pivot_cumulative_profit_df_filled.columns:\n",
    "    plt.plot(pivot_cumulative_profit_df_filled.index, pivot_cumulative_profit_df_filled[country], marker='', label=country)\n",
    "\n",
    "plt.title('Profit by Country')\n",
    "plt.xlabel('Time')\n",
    "plt.ylabel('Cumulative Profit')\n",
    "plt.legend(title='Country')\n",
    "plt.grid(True)\n",
    "\n",
    "plt.draw()\n",
    "plt.show()\n",
    "\n"
   ]
  },
  {
   "cell_type": "code",
   "execution_count": 305,
   "id": "1e7f3884",
   "metadata": {},
   "outputs": [],
   "source": [
    "Profit_AU = pivot_daily_profit_df_filled[\"AU\"]\n",
    "Profit_CA = pivot_daily_profit_df_filled[\"CA\"]"
   ]
  },
  {
   "cell_type": "code",
   "execution_count": 306,
   "id": "8db0edb8",
   "metadata": {},
   "outputs": [
    {
     "name": "stdout",
     "output_type": "stream",
     "text": [
      "The p_value is 1.37303237176012e-242, there is a significant difference between daily CA and AU profits\n"
     ]
    }
   ],
   "source": [
    "t_value, p_value = stats.ttest_ind(Profit_CA, Profit_AU)\n",
    "if p_value < 0.05:\n",
    "    print(f\"The p_value is {p_value}, there is a significant difference between daily CA and AU profits\")\n",
    "else:\n",
    "    print(f\"The p_value is {p_value}, there is no significant difference between CA and AU profits\")"
   ]
  },
  {
   "cell_type": "code",
   "execution_count": null,
   "id": "2d0d1ea1",
   "metadata": {},
   "outputs": [],
   "source": []
  }
 ],
 "metadata": {
  "kernelspec": {
   "display_name": "Python 3 (ipykernel)",
   "language": "python",
   "name": "python3"
  },
  "language_info": {
   "codemirror_mode": {
    "name": "ipython",
    "version": 3
   },
   "file_extension": ".py",
   "mimetype": "text/x-python",
   "name": "python",
   "nbconvert_exporter": "python",
   "pygments_lexer": "ipython3",
   "version": "3.11.5"
  }
 },
 "nbformat": 4,
 "nbformat_minor": 5
}
